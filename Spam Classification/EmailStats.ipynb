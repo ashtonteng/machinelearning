{
 "cells": [
  {
   "cell_type": "code",
   "execution_count": 47,
   "metadata": {
    "collapsed": true
   },
   "outputs": [],
   "source": [
    "import numpy as np\n",
    "import glob\n",
    "from collections import Counter"
   ]
  },
  {
   "cell_type": "code",
   "execution_count": 41,
   "metadata": {
    "collapsed": false
   },
   "outputs": [],
   "source": [
    "spam = []\n",
    "for filename in glob.glob('spam/*.txt'):\n",
    "    f = open(filename, \"r\", errors=\"ignore\")\n",
    "    s = f.read()\n",
    "    spam += s.split(\" \")"
   ]
  },
  {
   "cell_type": "code",
   "execution_count": 43,
   "metadata": {
    "collapsed": false
   },
   "outputs": [],
   "source": [
    "spam_counts = Counter(spam)"
   ]
  },
  {
   "cell_type": "code",
   "execution_count": 58,
   "metadata": {
    "collapsed": false
   },
   "outputs": [
    {
     "data": {
      "text/plain": [
       "50785"
      ]
     },
     "execution_count": 58,
     "metadata": {},
     "output_type": "execute_result"
    }
   ],
   "source": [
    "len(spam_counts)"
   ]
  },
  {
   "cell_type": "code",
   "execution_count": 48,
   "metadata": {
    "collapsed": true
   },
   "outputs": [],
   "source": [
    "ham = []\n",
    "for filename in glob.glob('ham/*.txt'):\n",
    "    f = open(filename, \"r\", errors=\"ignore\")\n",
    "    s = f.read()\n",
    "    ham += s.split(\" \")"
   ]
  },
  {
   "cell_type": "code",
   "execution_count": 49,
   "metadata": {
    "collapsed": true
   },
   "outputs": [],
   "source": [
    "ham_counts = Counter(ham)"
   ]
  },
  {
   "cell_type": "code",
   "execution_count": 57,
   "metadata": {
    "collapsed": false
   },
   "outputs": [
    {
     "data": {
      "text/plain": [
       "8830"
      ]
     },
     "execution_count": 57,
     "metadata": {},
     "output_type": "execute_result"
    }
   ],
   "source": [
    "common_words = set(spam_counts) & set(ham_counts)\n",
    "len(common_words)"
   ]
  },
  {
   "cell_type": "code",
   "execution_count": 59,
   "metadata": {
    "collapsed": true
   },
   "outputs": [],
   "source": [
    "for common_word in common_words:\n",
    "    del spam_counts[common_word]"
   ]
  },
  {
   "cell_type": "code",
   "execution_count": 61,
   "metadata": {
    "collapsed": true
   },
   "outputs": [],
   "source": [
    "for common_word in common_words:\n",
    "    del ham_counts[common_word]"
   ]
  },
  {
   "cell_type": "code",
   "execution_count": 83,
   "metadata": {
    "collapsed": false
   },
   "outputs": [],
   "source": [
    "common_spam_list = list(dict(spam_counts.most_common(100)).keys())"
   ]
  },
  {
   "cell_type": "code",
   "execution_count": null,
   "metadata": {
    "collapsed": true
   },
   "outputs": [],
   "source": [
    "common_ham_list = "
   ]
  },
  {
   "cell_type": "code",
   "execution_count": null,
   "metadata": {
    "collapsed": true
   },
   "outputs": [],
   "source": []
  },
  {
   "cell_type": "code",
   "execution_count": 86,
   "metadata": {
    "collapsed": true
   },
   "outputs": [],
   "source": [
    "common_spam_f = open(\"common_spam.txt\", \"w\", errors=\"ignore\")"
   ]
  },
  {
   "cell_type": "code",
   "execution_count": 87,
   "metadata": {
    "collapsed": true
   },
   "outputs": [],
   "source": [
    "for s in common_spam_list:\n",
    "    common_spam_f.write(s + \" \")"
   ]
  },
  {
   "cell_type": "code",
   "execution_count": 88,
   "metadata": {
    "collapsed": false
   },
   "outputs": [],
   "source": [
    "common_spam_f.close()\n"
   ]
  },
  {
   "cell_type": "code",
   "execution_count": 80,
   "metadata": {
    "collapsed": true
   },
   "outputs": [],
   "source": [
    "c = open(\"common_spam.txt\", \"r\", errors=\"ignore\")"
   ]
  },
  {
   "cell_type": "code",
   "execution_count": 81,
   "metadata": {
    "collapsed": false
   },
   "outputs": [],
   "source": [
    "x = c.read()"
   ]
  },
  {
   "cell_type": "code",
   "execution_count": 82,
   "metadata": {
    "collapsed": false
   },
   "outputs": [
    {
     "data": {
      "text/plain": [
       "['koch',\n",
       " 'xls\\n-',\n",
       " 'carlos',\n",
       " 'donald',\n",
       " 'lsp',\n",
       " '-\\nenron',\n",
       " 'noms',\n",
       " '2001\\n(',\n",
       " 'victor',\n",
       " 'counterparty',\n",
       " 'redeliveries',\n",
       " 'gcs',\n",
       " '098',\n",
       " 'clynes',\n",
       " 'ect\\nsubject',\n",
       " 'baumbach',\n",
       " 'ees',\n",
       " 'hplo',\n",
       " 'lsk',\n",
       " 'pat',\n",
       " 'path',\n",
       " 'lauri',\n",
       " 'ect',\n",
       " 'katy',\n",
       " 'hpl',\n",
       " '.\\nbob',\n",
       " 'papayoti',\n",
       " 'nominations',\n",
       " 'tu',\n",
       " 'pefs',\n",
       " 'forwarded',\n",
       " 'volumes',\n",
       " 'wellhead',\n",
       " 'schumack',\n",
       " 'melissa',\n",
       " 'sherlyn',\n",
       " 'pec',\n",
       " 'gco',\n",
       " '2000\\nteco',\n",
       " 'allocated',\n",
       " 'lannou',\n",
       " 'chokshi',\n",
       " 'enserch',\n",
       " 'enronxgate',\n",
       " 'dfarmer',\n",
       " 'teco',\n",
       " 'com\\ncc',\n",
       " 'aimee',\n",
       " 'scheduling',\n",
       " 'weissman',\n",
       " 'equistar',\n",
       " 'allocation',\n",
       " 'ena',\n",
       " 'actuals',\n",
       " 'txu',\n",
       " 'mmbtu',\n",
       " 'sitara',\n",
       " 'aep',\n",
       " 'cotten',\n",
       " 'herod',\n",
       " 'daren',\n",
       " 'xls',\n",
       " 'rodriguez',\n",
       " 'cec',\n",
       " 'nom',\n",
       " 'flowed',\n",
       " 'ect\\ncc',\n",
       " 'spreadsheet',\n",
       " 'calpine',\n",
       " 'rita',\n",
       " 'buyback',\n",
       " 'enron\\nsubject',\n",
       " ':\\ncounterparty',\n",
       " '?\\nthanks',\n",
       " 'hplc',\n",
       " 'ray',\n",
       " '2000\\n(',\n",
       " 'midcon',\n",
       " 'enron',\n",
       " 'hplno',\n",
       " '\\x01',\n",
       " \";\\n'\",\n",
       " 'clem',\n",
       " 'valero',\n",
       " 'enron\\ncc',\n",
       " '>\\n>',\n",
       " 'meter',\n",
       " 'hplnl',\n",
       " 'anita',\n",
       " 'jackie',\n",
       " 'entex',\n",
       " 'wynne',\n",
       " 'eastrans',\n",
       " ':\\nsubject',\n",
       " 'tenaska',\n",
       " 'reinhardt',\n",
       " 'pops',\n",
       " 'lamphier',\n",
       " '853',\n",
       " 'hsc',\n",
       " '']"
      ]
     },
     "execution_count": 82,
     "metadata": {},
     "output_type": "execute_result"
    }
   ],
   "source": [
    "x.split(\" \")"
   ]
  },
  {
   "cell_type": "code",
   "execution_count": null,
   "metadata": {
    "collapsed": true
   },
   "outputs": [],
   "source": [
    "only_spam_counts = "
   ]
  },
  {
   "cell_type": "code",
   "execution_count": 53,
   "metadata": {
    "collapsed": false
   },
   "outputs": [
    {
     "data": {
      "text/plain": [
       "{'\"': 2203,\n",
       " '#': 1815,\n",
       " '$': 1131,\n",
       " '&': 1452,\n",
       " \"'\": 5358,\n",
       " '(': 3507,\n",
       " ')': 2977,\n",
       " ',': 25782,\n",
       " '-': 72795,\n",
       " '.': 25910,\n",
       " '/': 37112,\n",
       " '00': 1361,\n",
       " '000': 1769,\n",
       " '01': 1348,\n",
       " '03': 932,\n",
       " '1': 1728,\n",
       " '10': 1500,\n",
       " '11': 1080,\n",
       " '12': 991,\n",
       " '2': 1217,\n",
       " '2000': 3065,\n",
       " '2001': 1630,\n",
       " '3': 1327,\n",
       " '4': 937,\n",
       " '5': 911,\n",
       " ':': 17744,\n",
       " ':\\nsubject': 1091,\n",
       " ';': 3138,\n",
       " '=': 1794,\n",
       " '>': 3302,\n",
       " '?': 1638,\n",
       " '@': 12145,\n",
       " 'Subject:': 3672,\n",
       " '_': 1730,\n",
       " 'a': 5521,\n",
       " 'all': 909,\n",
       " 'am': 982,\n",
       " 'am\\nto': 1092,\n",
       " 'and': 7068,\n",
       " 'any': 1293,\n",
       " 'are': 2020,\n",
       " 'as': 1689,\n",
       " 'at': 2691,\n",
       " 'be': 3420,\n",
       " 'by': 2243,\n",
       " 'can': 1153,\n",
       " 'com': 2193,\n",
       " 'corp': 1694,\n",
       " 'd': 1254,\n",
       " 'daren': 1024,\n",
       " 'deal': 2347,\n",
       " 'e': 1215,\n",
       " 'ect': 11643,\n",
       " 'ect\\ncc': 1386,\n",
       " 'enron': 5282,\n",
       " 'farmer': 907,\n",
       " 'for': 7316,\n",
       " 'forwarded': 1292,\n",
       " 'from': 1911,\n",
       " 'gas': 2602,\n",
       " 'has': 1108,\n",
       " 'have': 2946,\n",
       " 'hou': 7279,\n",
       " 'hpl': 2116,\n",
       " 'i': 3850,\n",
       " 'if': 2037,\n",
       " 'in': 4124,\n",
       " 'is': 4564,\n",
       " 'it': 2006,\n",
       " 'j': 1212,\n",
       " 'know': 1327,\n",
       " 'let': 900,\n",
       " 'me': 1942,\n",
       " 'meter': 2179,\n",
       " 'mmbtu': 1193,\n",
       " 'need': 1156,\n",
       " 'new': 901,\n",
       " 'not': 1739,\n",
       " 'of': 5226,\n",
       " 'on': 5580,\n",
       " 'or': 1593,\n",
       " 'our': 916,\n",
       " 'please': 1654,\n",
       " 'pm\\nto': 1337,\n",
       " 're': 1743,\n",
       " 's': 1987,\n",
       " 'see': 927,\n",
       " 'should': 990,\n",
       " 'that': 3076,\n",
       " 'the': 15800,\n",
       " 'this': 4084,\n",
       " 'to': 11559,\n",
       " 'up': 921,\n",
       " 'was': 1201,\n",
       " 'we': 2608,\n",
       " 'will': 3136,\n",
       " 'with': 2275,\n",
       " 'xls': 915,\n",
       " 'you': 4857,\n",
       " 'your': 1836}"
      ]
     },
     "execution_count": 53,
     "metadata": {},
     "output_type": "execute_result"
    }
   ],
   "source": [
    "\n",
    "dict(ham_counts.most_common(100)) dict(ham_counts.most_common(100)) "
   ]
  },
  {
   "cell_type": "code",
   "execution_count": 32,
   "metadata": {
    "collapsed": false
   },
   "outputs": [],
   "source": [
    "f = open(glob.glob('spam/*.txt')[2], \"r\")"
   ]
  },
  {
   "cell_type": "code",
   "execution_count": 33,
   "metadata": {
    "collapsed": false
   },
   "outputs": [],
   "source": [
    "s = f.read()"
   ]
  },
  {
   "cell_type": "code",
   "execution_count": 34,
   "metadata": {
    "collapsed": false
   },
   "outputs": [
    {
     "data": {
      "text/plain": [
       "['Subject:',\n",
       " 'get',\n",
       " 'that',\n",
       " 'new',\n",
       " 'car',\n",
       " '8434\\npeople',\n",
       " 'nowthe',\n",
       " 'weather',\n",
       " 'or',\n",
       " 'climate',\n",
       " 'in',\n",
       " 'any',\n",
       " 'particular',\n",
       " 'environment',\n",
       " 'can',\n",
       " 'change',\n",
       " 'and',\n",
       " 'affect',\n",
       " 'what',\n",
       " 'people',\n",
       " 'eat',\n",
       " 'and',\n",
       " 'how',\n",
       " 'much',\n",
       " 'of',\n",
       " 'it',\n",
       " 'they',\n",
       " 'are',\n",
       " 'able',\n",
       " 'to',\n",
       " 'eat',\n",
       " '.']"
      ]
     },
     "execution_count": 34,
     "metadata": {},
     "output_type": "execute_result"
    }
   ],
   "source": [
    "s.split(\" \")"
   ]
  },
  {
   "cell_type": "code",
   "execution_count": null,
   "metadata": {
    "collapsed": true
   },
   "outputs": [],
   "source": []
  }
 ],
 "metadata": {
  "anaconda-cloud": {},
  "kernelspec": {
   "display_name": "Python 3",
   "language": "python",
   "name": "python3"
  },
  "language_info": {
   "codemirror_mode": {
    "name": "ipython",
    "version": 3
   },
   "file_extension": ".py",
   "mimetype": "text/x-python",
   "name": "python",
   "nbconvert_exporter": "python",
   "pygments_lexer": "ipython3",
   "version": "3.5.1"
  }
 },
 "nbformat": 4,
 "nbformat_minor": 0
}
