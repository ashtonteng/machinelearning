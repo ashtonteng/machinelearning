{
 "cells": [
  {
   "cell_type": "code",
   "execution_count": 23,
   "metadata": {
    "collapsed": false
   },
   "outputs": [],
   "source": [
    "import numpy as np\n",
    "import csv\n",
    "from collections import Counter"
   ]
  },
  {
   "cell_type": "code",
   "execution_count": 3,
   "metadata": {
    "collapsed": true
   },
   "outputs": [],
   "source": [
    "train_dict = []\n",
    "with open('train_data.csv') as csvfile:\n",
    "    reader = csv.DictReader(csvfile)\n",
    "    for row in reader:\n",
    "        train_dict.append(row)"
   ]
  },
  {
   "cell_type": "code",
   "execution_count": 4,
   "metadata": {
    "collapsed": true
   },
   "outputs": [],
   "source": [
    "test_dict = []\n",
    "with open('test_data.csv') as csvfile:\n",
    "    reader = csv.DictReader(csvfile)\n",
    "    for row in reader:\n",
    "        test_dict.append(row)"
   ]
  },
  {
   "cell_type": "code",
   "execution_count": 7,
   "metadata": {
    "collapsed": true
   },
   "outputs": [],
   "source": [
    "headings = []\n",
    "train_data = []"
   ]
  },
  {
   "cell_type": "code",
   "execution_count": 8,
   "metadata": {
    "collapsed": false
   },
   "outputs": [],
   "source": [
    "with open('train_data.csv') as csvfile:\n",
    "    reader = csv.reader(csvfile)\n",
    "    for row in reader:\n",
    "        train_data.append(row)"
   ]
  },
  {
   "cell_type": "code",
   "execution_count": 9,
   "metadata": {
    "collapsed": true
   },
   "outputs": [],
   "source": [
    "headings = np.array(train_data[0])\n",
    "train_data = np.array(train_data[1:])"
   ]
  },
  {
   "cell_type": "code",
   "execution_count": 10,
   "metadata": {
    "collapsed": true
   },
   "outputs": [],
   "source": [
    "test_data = []\n",
    "with open('test_data.csv') as csvfile:\n",
    "    reader = csv.reader(csvfile)\n",
    "    for row in reader:\n",
    "        test_data.append(row)\n",
    "test_data = np.array(test_data[1:])"
   ]
  },
  {
   "cell_type": "code",
   "execution_count": 11,
   "metadata": {
    "collapsed": false
   },
   "outputs": [
    {
     "data": {
      "text/plain": [
       "array(['age', 'workclass', 'fnlwgt', 'education', 'education-num',\n",
       "       'marital-status', 'occupation', 'relationship', 'race', 'sex',\n",
       "       'capital-gain', 'capital-loss', 'hours-per-week', 'native-country',\n",
       "       'label'], \n",
       "      dtype='<U14')"
      ]
     },
     "execution_count": 11,
     "metadata": {},
     "output_type": "execute_result"
    }
   ],
   "source": [
    "headings"
   ]
  },
  {
   "cell_type": "code",
   "execution_count": 12,
   "metadata": {
    "collapsed": false
   },
   "outputs": [],
   "source": [
    "gdp = {'Cambodia': 267.63, \"Canada\": 19785.68, \"China\": 469.21, \"Columbia\": 2274.89, \"Cuba\": 2615.02,\n",
    "\"Dominican-Republic\": 1852.24, \"Ecuador\": 2050.32, \"El-Salvador\": 1424.09, \"England\": 19531.98, \n",
    "\"France\": 23626.09, \"Germany\": 27087.56, \"Greece\": 11089.90, \"Guatemala\": 1330.74, \"Haiti\": 276.29,\n",
    "\"Honduras\": 628.96, \"Hong\": 22502.58, \"Hungary\": 4150.06, \"India\": 354.85, \"Iran\": 1125.12, \n",
    "\"Ireland\": 15887.05, \"Italy\": 19280.86, \"Jamaica\": 2007.37, \"Japan\": 38814.89, \n",
    "\"Laos\": 324.89, \"Mexico\": 5637.27, \"Nicaragua\": 847.72, \"Outlying-US(Guam-USVI-etc)\": 3500, \"Peru\": 1859.52, \n",
    "\"Philippines\": 941.72, \"Poland\": 2819.70, \"Portugal\": 9978.30, \"Puerto-Rico\": 10876.42, \n",
    "\"Scotland\": 19531.00, \"South\": 3546.67, \"Taiwan\": 12108.8, \"Thailand\": 2467.18, \"Trinadad&Tobago\": 3956.76, \n",
    " \"United-States\": 27776.81, \"Vietnam\": 229.95, \"Yugoslavia\": 3549, \"Holand-Netherlands\": 24236.55}"
   ]
  },
  {
   "cell_type": "code",
   "execution_count": 16,
   "metadata": {
    "collapsed": false
   },
   "outputs": [],
   "source": [
    "def onehot(labels, person_dict, category, best):\n",
    "    person_label = person_dict[category]\n",
    "    if person_label == \"?\":\n",
    "        person_label = best\n",
    "    onehot = np.zeros((len(labels),))\n",
    "    onehot[labels.index(person_label)] = 1\n",
    "    return onehot"
   ]
  },
  {
   "cell_type": "code",
   "execution_count": 17,
   "metadata": {
    "collapsed": true
   },
   "outputs": [],
   "source": [
    "def onehot_stack(labels, people_dict, category, best):\n",
    "    output = np.zeros((len(people_dict), len(labels)))\n",
    "    for i, person_dict in enumerate(people_dict):\n",
    "        output[i] = onehot(labels, person_dict, category, best)\n",
    "    return output"
   ]
  },
  {
   "cell_type": "code",
   "execution_count": 228,
   "metadata": {
    "collapsed": false
   },
   "outputs": [],
   "source": [
    "def get_fnlwgt(data_list):\n",
    "    x = data_list[:,2].astype(\"int\")//10000\n",
    "    return x.reshape((len(x), 1))\n",
    "def get_education_num(data_list):\n",
    "    return data_list[:,4].reshape((len(data_list),1)).astype(\"int\")\n",
    "def get_capital_gain(data_list):\n",
    "    return data_list[:,10].reshape((len(data_list),1)).astype(\"int\")\n",
    "def get_capital_loss(data_list):\n",
    "    return data_list[:,11].reshape((len(data_list),1)).astype(\"int\")\n",
    "def get_hours_per_week(data_list):\n",
    "    return data_list[:,12].reshape((len(data_list),1)).astype(\"int\")"
   ]
  },
  {
   "cell_type": "code",
   "execution_count": 229,
   "metadata": {
    "collapsed": true
   },
   "outputs": [],
   "source": [
    "def construct_design_matrix(data_dict, data_list):\n",
    "    age_stack = get_age(data_dict)\n",
    "    work_class_onehot_stack = onehot_stack(work_classes_list, data_dict, \"workclass\", \"Private\")\n",
    "    fnlwgt_stack = get_fnlwgt(data_list)\n",
    "    educations_onehot_stack = onehot_stack(educations_list, data_dict, \"education\", \"HS-grad\")\n",
    "    education_num_stack = get_education_num(data_list)\n",
    "    marital_status_onehot_stack = onehot_stack(marital_status_list, data_dict, \"marital-status\", \"Married-civ-spouse\")\n",
    "    occupation_onehot_stack = onehot_stack(occupation_list, data_dict, \"occupation\", \"Exec-managerial\")\n",
    "    relationship_onehot_stack = onehot_stack(relationship_list, data_dict, \"relationship\", \"Husband\")\n",
    "    race_onehot_stack = onehot_stack(race_list, data_dict, \"race\", \"White\")\n",
    "    sex_stack = get_sex(data_dict)\n",
    "    capital_gain_stack = get_capital_gain(data_list)\n",
    "    capital_loss_stack = get_capital_loss(data_list)\n",
    "    hours_per_week_stack = get_hours_per_week(data_list)\n",
    "    gdp_stack = get_gdp(data_dict)\n",
    "    return np.concatenate((age_stack, work_class_onehot_stack, fnlwgt_stack, educations_onehot_stack, \n",
    "                           education_num_stack, marital_status_onehot_stack, occupation_onehot_stack, \n",
    "                          relationship_onehot_stack, race_onehot_stack, sex_stack, capital_gain_stack,\n",
    "                          capital_loss_stack, hours_per_week_stack, gdp_stack), axis=1)"
   ]
  },
  {
   "cell_type": "code",
   "execution_count": 230,
   "metadata": {
    "collapsed": false
   },
   "outputs": [],
   "source": [
    "X_train = construct_design_matrix(train_dict, train_data)\n",
    "X_test = construct_design_matrix(test_dict, test_data)"
   ]
  },
  {
   "cell_type": "code",
   "execution_count": 231,
   "metadata": {
    "collapsed": false
   },
   "outputs": [],
   "source": []
  },
  {
   "cell_type": "code",
   "execution_count": 233,
   "metadata": {
    "collapsed": true
   },
   "outputs": [],
   "source": [
    "census_dict = {}\n",
    "census_dict[\"training_data\"] = X_train\n",
    "census_dict[\"test_data\"] = X_test\n",
    "census_dict[\"training_labels\"] = labels_train.astype(\"int\")"
   ]
  },
  {
   "cell_type": "code",
   "execution_count": 234,
   "metadata": {
    "collapsed": false
   },
   "outputs": [],
   "source": [
    "import scipy\n",
    "from scipy import io\n",
    "io.savemat(\"census_data.mat\", census_dict)"
   ]
  },
  {
   "cell_type": "markdown",
   "metadata": {},
   "source": [
    "**AGE**"
   ]
  },
  {
   "cell_type": "code",
   "execution_count": 111,
   "metadata": {
    "collapsed": true
   },
   "outputs": [],
   "source": [
    "mean_age = np.mean(train_data[:,0].astype(\"int\"))\n",
    "def get_age(data):\n",
    "    mean_age = 38.6681945972\n",
    "    ages = np.zeros(len(data))\n",
    "    for i, person in enumerate(data):\n",
    "        age_i = int(person[\"age\"])\n",
    "        if age_i == \"?\":\n",
    "            age_i = mean_age\n",
    "        diff = abs(age_i-mean_age)\n",
    "        ages[i] = diff\n",
    "    return ages.reshape((len(ages),1))"
   ]
  },
  {
   "cell_type": "markdown",
   "metadata": {},
   "source": [
    "**WORK CLASS**"
   ]
  },
  {
   "cell_type": "code",
   "execution_count": 92,
   "metadata": {
    "collapsed": false
   },
   "outputs": [
    {
     "data": {
      "text/plain": [
       "Counter({'?': 1868,\n",
       "         'Federal-gov': 936,\n",
       "         'Local-gov': 2082,\n",
       "         'Never-worked': 7,\n",
       "         'Private': 22792,\n",
       "         'Self-emp-inc': 1140,\n",
       "         'Self-emp-not-inc': 2593,\n",
       "         'State-gov': 1293,\n",
       "         'Without-pay': 13})"
      ]
     },
     "execution_count": 92,
     "metadata": {},
     "output_type": "execute_result"
    }
   ],
   "source": [
    "work_classes = train_data[:,1]\n",
    "Counter(work_classes)"
   ]
  },
  {
   "cell_type": "code",
   "execution_count": 19,
   "metadata": {
    "collapsed": false
   },
   "outputs": [],
   "source": [
    "work_classes_set = set(work_classes)\n",
    "work_classes_set.remove(\"?\")\n",
    "work_classes_list = list(work_classes_set)"
   ]
  },
  {
   "cell_type": "code",
   "execution_count": 20,
   "metadata": {
    "collapsed": false
   },
   "outputs": [
    {
     "data": {
      "text/plain": [
       "['Without-pay',\n",
       " 'Never-worked',\n",
       " 'Local-gov',\n",
       " 'Federal-gov',\n",
       " 'Self-emp-not-inc',\n",
       " 'Private',\n",
       " 'State-gov',\n",
       " 'Self-emp-inc']"
      ]
     },
     "execution_count": 20,
     "metadata": {},
     "output_type": "execute_result"
    }
   ],
   "source": [
    "work_classes_list"
   ]
  },
  {
   "cell_type": "code",
   "execution_count": 21,
   "metadata": {
    "collapsed": true
   },
   "outputs": [],
   "source": [
    "work_class_onehot_stack = onehot_stack(work_classes_list, train_dict, \"workclass\", \"Private\")"
   ]
  },
  {
   "cell_type": "code",
   "execution_count": 55,
   "metadata": {
    "collapsed": false
   },
   "outputs": [
    {
     "data": {
      "text/plain": [
       "(32724, 8)"
      ]
     },
     "execution_count": 55,
     "metadata": {},
     "output_type": "execute_result"
    }
   ],
   "source": [
    "work_class_onehot_stack.shape"
   ]
  },
  {
   "cell_type": "markdown",
   "metadata": {},
   "source": [
    "**EDUCATION**"
   ]
  },
  {
   "cell_type": "code",
   "execution_count": 26,
   "metadata": {
    "collapsed": false
   },
   "outputs": [
    {
     "data": {
      "text/plain": [
       "Counter({'10th': 959,\n",
       "         '11th': 1185,\n",
       "         '12th': 432,\n",
       "         '1st-4th': 163,\n",
       "         '5th-6th': 352,\n",
       "         '7th-8th': 634,\n",
       "         '9th': 505,\n",
       "         'Assoc-acdm': 1075,\n",
       "         'Assoc-voc': 1395,\n",
       "         'Bachelors': 5366,\n",
       "         'Doctorate': 391,\n",
       "         'HS-grad': 10570,\n",
       "         'Masters': 1779,\n",
       "         'Preschool': 55,\n",
       "         'Prof-school': 562,\n",
       "         'Some-college': 7301})"
      ]
     },
     "execution_count": 26,
     "metadata": {},
     "output_type": "execute_result"
    }
   ],
   "source": [
    "educations = train_data[:,3]\n",
    "Counter(educations)"
   ]
  },
  {
   "cell_type": "code",
   "execution_count": 27,
   "metadata": {
    "collapsed": true
   },
   "outputs": [],
   "source": [
    "educations_list = list(set(educations))"
   ]
  },
  {
   "cell_type": "code",
   "execution_count": 30,
   "metadata": {
    "collapsed": false
   },
   "outputs": [],
   "source": [
    "educations_onehot_stack = onehot_stack(educations_list, train_dict, \"education\", \"HS-grad\")"
   ]
  },
  {
   "cell_type": "markdown",
   "metadata": {},
   "source": [
    "**MARITAL STATUS**"
   ]
  },
  {
   "cell_type": "code",
   "execution_count": 33,
   "metadata": {
    "collapsed": false
   },
   "outputs": [
    {
     "data": {
      "text/plain": [
       "Counter({'Divorced': 4443,\n",
       "         'Married-AF-spouse': 25,\n",
       "         'Married-civ-spouse': 15066,\n",
       "         'Married-spouse-absent': 422,\n",
       "         'Never-married': 10733,\n",
       "         'Separated': 1013,\n",
       "         'Widowed': 1022})"
      ]
     },
     "execution_count": 33,
     "metadata": {},
     "output_type": "execute_result"
    }
   ],
   "source": [
    "marital_status = train_data[:,5]\n",
    "Counter(marital_status)"
   ]
  },
  {
   "cell_type": "code",
   "execution_count": 34,
   "metadata": {
    "collapsed": true
   },
   "outputs": [],
   "source": [
    "marital_status_list = list(set(marital_status))\n",
    "marital_status_onehot_stack = onehot_stack(marital_status_list, train_dict, \"marital-status\", \"Married-civ-spouse\")"
   ]
  },
  {
   "cell_type": "markdown",
   "metadata": {},
   "source": [
    "**OCCUPATION**"
   ]
  },
  {
   "cell_type": "code",
   "execution_count": 36,
   "metadata": {
    "collapsed": false
   },
   "outputs": [
    {
     "data": {
      "text/plain": [
       "Counter({'?': 1875,\n",
       "         'Adm-clerical': 3736,\n",
       "         'Armed-Forces': 12,\n",
       "         'Craft-repair': 4030,\n",
       "         'Exec-managerial': 4097,\n",
       "         'Farming-fishing': 1031,\n",
       "         'Handlers-cleaners': 1383,\n",
       "         'Machine-op-inspct': 2060,\n",
       "         'Other-service': 3320,\n",
       "         'Priv-house-serv': 164,\n",
       "         'Prof-specialty': 4087,\n",
       "         'Protective-serv': 648,\n",
       "         'Sales': 3740,\n",
       "         'Tech-support': 965,\n",
       "         'Transport-moving': 1576})"
      ]
     },
     "execution_count": 36,
     "metadata": {},
     "output_type": "execute_result"
    }
   ],
   "source": [
    "occupation = train_data[:,6]\n",
    "Counter(occupation)"
   ]
  },
  {
   "cell_type": "code",
   "execution_count": 37,
   "metadata": {
    "collapsed": true
   },
   "outputs": [],
   "source": [
    "occupation_set = set(occupation)\n",
    "occupation_set.remove(\"?\")\n",
    "occupation_list = list(occupation_set)"
   ]
  },
  {
   "cell_type": "code",
   "execution_count": 38,
   "metadata": {
    "collapsed": true
   },
   "outputs": [],
   "source": [
    "occupation_onehot_stack = onehot_stack(occupation_list, train_dict, \"occupation\", \"Exec-managerial\")"
   ]
  },
  {
   "cell_type": "markdown",
   "metadata": {},
   "source": [
    "**RELATIONSHIP**"
   ]
  },
  {
   "cell_type": "code",
   "execution_count": 43,
   "metadata": {
    "collapsed": false
   },
   "outputs": [
    {
     "data": {
      "text/plain": [
       "Counter({'Husband': 13277,\n",
       "         'Not-in-family': 8307,\n",
       "         'Other-relative': 981,\n",
       "         'Own-child': 5105,\n",
       "         'Unmarried': 3483,\n",
       "         'Wife': 1571})"
      ]
     },
     "execution_count": 43,
     "metadata": {},
     "output_type": "execute_result"
    }
   ],
   "source": [
    "relationship = train_data[:,7]\n",
    "Counter(relationship)"
   ]
  },
  {
   "cell_type": "code",
   "execution_count": 44,
   "metadata": {
    "collapsed": true
   },
   "outputs": [],
   "source": [
    "relationship_list = list(set(relationship))\n",
    "relationship_onehot_stack = onehot_stack(relationship_list, train_dict, \"relationship\", \"Husband\")"
   ]
  },
  {
   "cell_type": "markdown",
   "metadata": {},
   "source": [
    "**RACE**"
   ]
  },
  {
   "cell_type": "code",
   "execution_count": 48,
   "metadata": {
    "collapsed": false
   },
   "outputs": [
    {
     "data": {
      "text/plain": [
       "Counter({'Amer-Indian-Eskimo': 325,\n",
       "         'Asian-Pac-Islander': 1043,\n",
       "         'Black': 3147,\n",
       "         'Other': 283,\n",
       "         'White': 27926})"
      ]
     },
     "execution_count": 48,
     "metadata": {},
     "output_type": "execute_result"
    }
   ],
   "source": [
    "race = train_data[:,8]\n",
    "Counter(race)"
   ]
  },
  {
   "cell_type": "code",
   "execution_count": 49,
   "metadata": {
    "collapsed": true
   },
   "outputs": [],
   "source": [
    "race_list = list(set(race))\n",
    "race_onehot_stack = onehot_stack(race_list, train_dict, \"race\", \"White\")"
   ]
  },
  {
   "cell_type": "markdown",
   "metadata": {},
   "source": [
    "**SEX**"
   ]
  },
  {
   "cell_type": "code",
   "execution_count": 51,
   "metadata": {
    "collapsed": false
   },
   "outputs": [
    {
     "data": {
      "text/plain": [
       "Counter({'Female': 10856, 'Male': 21868})"
      ]
     },
     "execution_count": 51,
     "metadata": {},
     "output_type": "execute_result"
    }
   ],
   "source": [
    "sex = train_data[:,9]\n",
    "Counter(sex)"
   ]
  },
  {
   "cell_type": "code",
   "execution_count": 78,
   "metadata": {
    "collapsed": false
   },
   "outputs": [],
   "source": [
    "def get_sex(data):\n",
    "    sex_stack = np.zeros(len(data))\n",
    "    for i, person in enumerate(data):\n",
    "        if person[\"sex\"] == \"Male\":\n",
    "            sex_stack[i] = 1\n",
    "    return sex_stack.reshape((len(sex_stack),1))"
   ]
  },
  {
   "cell_type": "code",
   "execution_count": 79,
   "metadata": {
    "collapsed": false
   },
   "outputs": [
    {
     "data": {
      "text/plain": [
       "array([[ 1.],\n",
       "       [ 0.],\n",
       "       [ 0.],\n",
       "       ..., \n",
       "       [ 1.],\n",
       "       [ 1.],\n",
       "       [ 1.]])"
      ]
     },
     "execution_count": 79,
     "metadata": {},
     "output_type": "execute_result"
    }
   ],
   "source": [
    "get_sex(train_dict)"
   ]
  },
  {
   "cell_type": "markdown",
   "metadata": {},
   "source": [
    "**NATIVE COUNTRY**"
   ]
  },
  {
   "cell_type": "code",
   "execution_count": 75,
   "metadata": {
    "collapsed": false
   },
   "outputs": [],
   "source": [
    "def get_gdp(data):\n",
    "    country_gdps = np.zeros(len(data))\n",
    "    for i, person in enumerate(data):\n",
    "        country = person[\"native-country\"]\n",
    "        if country == \"?\":\n",
    "            country = \"United-States\"\n",
    "        country_gdps[i] = gdp[country]\n",
    "    return country_gdps.reshape((len(country_gdps),1))"
   ]
  },
  {
   "cell_type": "code",
   "execution_count": 77,
   "metadata": {
    "collapsed": false
   },
   "outputs": [
    {
     "data": {
      "text/plain": [
       "array([[ 27776.81],\n",
       "       [ 27776.81],\n",
       "       [ 27776.81],\n",
       "       ..., \n",
       "       [ 27776.81],\n",
       "       [ 27776.81],\n",
       "       [ 27776.81]])"
      ]
     },
     "execution_count": 77,
     "metadata": {},
     "output_type": "execute_result"
    }
   ],
   "source": [
    "get_gdp(train_dict)"
   ]
  },
  {
   "cell_type": "code",
   "execution_count": 213,
   "metadata": {
    "collapsed": false
   },
   "outputs": [],
   "source": [
    "countries = train_data[:,-2]"
   ]
  },
  {
   "cell_type": "code",
   "execution_count": 218,
   "metadata": {
    "collapsed": true
   },
   "outputs": [],
   "source": [
    "countries_set = set(countries)\n",
    "countries_set.remove(\"?\")\n",
    "countries_list = list(countries_set)"
   ]
  },
  {
   "cell_type": "code",
   "execution_count": 220,
   "metadata": {
    "collapsed": true
   },
   "outputs": [],
   "source": [
    "countries_onehot_stack = onehot_stack(countries_list, train_dict, \"native-country\", \"United-States\")"
   ]
  }
 ],
 "metadata": {
  "anaconda-cloud": {},
  "kernelspec": {
   "display_name": "Python 3",
   "language": "python",
   "name": "python3"
  },
  "language_info": {
   "codemirror_mode": {
    "name": "ipython",
    "version": 3
   },
   "file_extension": ".py",
   "mimetype": "text/x-python",
   "name": "python",
   "nbconvert_exporter": "python",
   "pygments_lexer": "ipython3",
   "version": "3.5.1"
  }
 },
 "nbformat": 4,
 "nbformat_minor": 0
}
